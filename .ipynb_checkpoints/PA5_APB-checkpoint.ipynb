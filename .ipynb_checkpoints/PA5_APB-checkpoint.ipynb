{
 "cells": [
  {
   "cell_type": "markdown",
   "id": "38eafb9c-0910-43ef-9e1a-08f35e9f25e5",
   "metadata": {
    "tags": []
   },
   "source": [
    "# Programming Assignment 5\n",
    "---\n",
    "**Author:** Allie Baker  \n",
    "**Version:** 1.0  \n",
    "**Semester:** Spring 2024 \n",
    "\n",
    "This *notebook* contains my solution(s) to **Programming Assignment 5**"
   ]
  },
  {
   "cell_type": "markdown",
   "id": "a3e82e6b-76be-4aeb-91b7-9bc993e9abbf",
   "metadata": {},
   "source": [
    "### Problem 1 - Language Translator "
   ]
  },
  {
   "cell_type": "code",
   "execution_count": 7,
   "id": "a1385f5d-b965-40d5-b66a-3c3f03183c9c",
   "metadata": {
    "tags": []
   },
   "outputs": [
    {
     "name": "stdin",
     "output_type": "stream",
     "text": [
      "Enter an English word to translate to Spanish (Q to quit):  apple\n"
     ]
    },
    {
     "name": "stdout",
     "output_type": "stream",
     "text": [
      "The Spanish translation is manzana\n"
     ]
    },
    {
     "name": "stdin",
     "output_type": "stream",
     "text": [
      "Enter an English word to translate to Spanish (Q to quit):  loves\n"
     ]
    },
    {
     "name": "stdout",
     "output_type": "stream",
     "text": [
      "The Spanish translation is not found in dictionary\n"
     ]
    },
    {
     "name": "stdin",
     "output_type": "stream",
     "text": [
      "Enter an English word to translate to Spanish (Q to quit):  Q\n"
     ]
    },
    {
     "name": "stdout",
     "output_type": "stream",
     "text": [
      "\n"
     ]
    }
   ],
   "source": [
    "def create_translation_dictionary():\n",
    "    translation_dict = {\n",
    "        'apple': 'manzana',\n",
    "        'banana': 'plátano',\n",
    "        'car': 'coche',\n",
    "        'dog': 'perro',\n",
    "        'cat': 'gato',\n",
    "        'house': 'casa',\n",
    "        'tree': 'árbol',\n",
    "        'book': 'libro',\n",
    "        'computer': 'computadora',\n",
    "        'sun': 'sol',\n",
    "        'moon': 'luna',\n",
    "        'water': 'agua',\n",
    "        'food': 'comida',\n",
    "        'hello': 'hola',\n",
    "        'goodbye': 'adiós',\n",
    "        'yes': 'sí',\n",
    "        'no': 'no',\n",
    "        'friend': 'amigo',\n",
    "        'love': 'amor',\n",
    "        'beautiful': 'hermoso'\n",
    "    }\n",
    "    return translation_dict\n",
    "\n",
    "def translate_word(word, translation_dict):\n",
    "    return translation_dict.get(word, \"not found in dictionary\")\n",
    "\n",
    "def main():\n",
    "    translation_dict = create_translation_dictionary()\n",
    "    while True:\n",
    "        word = input(\"Enter an English word to translate to Spanish (Q to quit): \").lower()\n",
    "        if word == 'q':\n",
    "            print(\"\")\n",
    "            break\n",
    "        translation = translate_word(word, translation_dict)\n",
    "        print(\"The Spanish translation is\", translation)\n",
    "\n",
    "if __name__ == \"__main__\":\n",
    "    main()\n"
   ]
  },
  {
   "cell_type": "markdown",
   "id": "c774dd52-11f6-4df0-8263-c295cb3eb111",
   "metadata": {},
   "source": [
    "### Problem 2 - Translating Morse Code"
   ]
  },
  {
   "cell_type": "code",
   "execution_count": 10,
   "id": "b5065cd9-53b4-4a05-bcb0-0bb37802a9fc",
   "metadata": {
    "tags": []
   },
   "outputs": [
    {
     "name": "stdin",
     "output_type": "stream",
     "text": [
      "Enter a sentence to translate to Morse code (q to quit):  q\n"
     ]
    },
    {
     "name": "stdout",
     "output_type": "stream",
     "text": [
      "\n"
     ]
    }
   ],
   "source": [
    "def create_morse_code_dict():\n",
    "    morse_code_dict = {\n",
    "        'A': '.-', 'B': '-...', 'C': '-.-.', 'D': '-..', 'E': '.', 'F': '..-.', 'G': '--.', 'H': '....', \n",
    "        'I': '..', 'J': '.---', 'K': '-.-', 'L': '.-..', 'M': '--', 'N': '-.', 'O': '---', 'P': '.--.', \n",
    "        'Q': '--.-', 'R': '.-.', 'S': '...', 'T': '-', 'U': '..-', 'V': '...-', 'W': '.--', 'X': '-..-', \n",
    "        'Y': '-.--', 'Z': '--..',\n",
    "        '0': '-----', '1': '.----', '2': '..---', '3': '...--', '4': '....-', '5': '.....', '6': '-....', \n",
    "        '7': '--...', '8': '---..', '9': '----.'\n",
    "    }\n",
    "    return morse_code_dict\n",
    "\n",
    "def translate_to_morse_code(sentence, morse_code_dict):\n",
    "    morse_code = ''\n",
    "    for char in sentence:\n",
    "        if char.upper() in morse_code_dict:\n",
    "            morse_code += morse_code_dict[char.upper()] + ' '\n",
    "        elif char == ' ':\n",
    "            morse_code += '/ '\n",
    "    return morse_code.strip()\n",
    "\n",
    "def main():\n",
    "    morse_code_dict = create_morse_code_dict()\n",
    "    while True:\n",
    "        sentence = input(\"Enter a sentence to translate to Morse code (q to quit): \").strip()\n",
    "        if sentence.lower() == 'q':\n",
    "            print(\"\")\n",
    "            break\n",
    "        translation = translate_to_morse_code(sentence, morse_code_dict)\n",
    "        print(\"Morse Code:\", translation)\n",
    "\n",
    "if __name__ == \"__main__\":\n",
    "    main()\n"
   ]
  },
  {
   "cell_type": "markdown",
   "id": "ffd01de6-6f1c-45c7-bad8-15dd807c1570",
   "metadata": {},
   "source": [
    "### Problem 3 - Comparing Minors/Majors"
   ]
  },
  {
   "cell_type": "code",
   "execution_count": 5,
   "id": "0b89f742-3a45-4e19-b912-5b984fd547d2",
   "metadata": {
    "tags": []
   },
   "outputs": [
    {
     "name": "stdout",
     "output_type": "stream",
     "text": [
      "i. Overlapping courses between Business Administration and Business Analytics minors: {'BUSA103'}\n",
      "ii. All courses for a minor in Business Administration and Computer Science: {'CS131', 'ACCT101', 'CS215', 'CS400', 'MATH125', 'CS101', 'FINA315', 'CS100', 'CS233', 'BUSA305', 'BUSA301', 'ECON110', 'MATH120', 'BUSA203', 'BUSA103'}\n",
      "iii. Courses in the Business Administration minor but not in the Business Analytics minor: {'ACCT101', 'MATH125', 'FINA315', 'BUSA305', 'BUSA301', 'ECON110', 'BUSA203'}\n",
      "iv. Overlapping courses between Computer Science and Data Science majors: None\n",
      "v. Is the Business Analytics minor completely subsumed by the Data Science major? Yes\n"
     ]
    }
   ],
   "source": [
    "cs_minor = {\"CS100\", \"CS101\", \"CS131\", \"CS215\", \"CS400\", \"CS233\" or \"CS330\", \"MATH120\"}\n",
    "bus_admin_minor = {\"BUSA103\", \"BUSA203\", \"BUSA301\", \"BUSA305\", \"ACCT101\", \"ECON110\", \"FINA315\", \"MATH125\" or \"MATH117\"}\n",
    "bus_analytics_minor = {\"BUSA103\", \"BUSA245\", \"BUSA346\", \"CS150\", \"DS160\", \"DS300\"}\n",
    "ds_major = {\"BUSA103\", \"BUSA245\", \"BUSA346\", \"CS150\", \"DS160\", \"DS300\", \"DS450\", \"MATH205\", \"MATH215\", \"MATH430\", \"ECON410\", \"ECON322\" \"ECON351\" or \"DS444\"}\n",
    "\n",
    "\n",
    "overlap_bus_admin_and_analytics = bus_admin_minor.intersection(bus_analytics_minor)\n",
    "print(f\"i. Overlapping courses between Business Administration and Business Analytics minors: {overlap_bus_admin_and_analytics}\")\n",
    "\n",
    "\n",
    "all_courses_bus_admin_and_cs = bus_admin_minor.union(cs_minor)\n",
    "print(f\"ii. All courses for a minor in Business Administration and Computer Science: {all_courses_bus_admin_and_cs}\")\n",
    "\n",
    "\n",
    "bus_admin_not_in_analytics = bus_admin_minor.difference(bus_analytics_minor)\n",
    "print(f\"iii. Courses in the Business Administration minor but not in the Business Analytics minor: {bus_admin_not_in_analytics}\")\n",
    "\n",
    "\n",
    "overlap_cs_and_ds = cs_minor.intersection(ds_major)\n",
    "print(f\"iv. Overlapping courses between Computer Science and Data Science majors: {overlap_cs_and_ds if overlap_cs_and_ds else 'None'}\")\n",
    "\n",
    "\n",
    "is_bus_analytics_in_ds = bus_analytics_minor.issubset(ds_major)\n",
    "print(f\"v. Is the Business Analytics minor completely subsumed by the Data Science major? {'Yes' if is_bus_analytics_in_ds else 'No'}\")\n"
   ]
  },
  {
   "cell_type": "markdown",
   "id": "5551cddb-0c5b-44b6-82ec-a09cf1d04901",
   "metadata": {},
   "source": [
    "### Problem 4 - Working with Numpy "
   ]
  },
  {
   "cell_type": "code",
   "execution_count": 6,
   "id": "94a8d06a-b2dd-45b8-9694-86c4b6c34c9b",
   "metadata": {
    "tags": []
   },
   "outputs": [
    {
     "name": "stdout",
     "output_type": "stream",
     "text": [
      "Array 1:\n",
      "[[16  2  6 17 11]\n",
      " [14 19 17 17 16]\n",
      " [ 0 16  0 18  0]\n",
      " [16  5 20  7 16]\n",
      " [12 13 11  2 20]]\n",
      "\n",
      "Array 2:\n",
      "[[ 0  6 18  3 16]\n",
      " [ 0  8 19  3  4]\n",
      " [ 7  6  0 13  7]\n",
      " [ 8 16 17  8 19]\n",
      " [ 9 12  4 15  0]]\n",
      "\n",
      "Matrix Product:\n",
      "[[277 552 659 433 629]\n",
      " [399 802 966 696 742]\n",
      " [144 416 610 192 406]\n",
      " [340 560 566 619 549]\n",
      " [273 514 577 534 359]]\n",
      "\n",
      "Dot Product:\n",
      "2513\n",
      "\n",
      "Determinant of Array 1: -68172.00000000004\n",
      "Inverse of Array 1:\n",
      "[[ 0.14070293  1.14319662 -0.85144928 -0.8363551  -0.32285983]\n",
      " [ 0.01689843  0.5576483  -0.36956522 -0.40820278 -0.12885055]\n",
      " [-0.06501203 -0.14539694  0.12318841  0.19544681 -0.00428328]\n",
      " [-0.01502083 -0.49568738  0.38405797  0.36284692  0.11453383]\n",
      " [-0.05814704 -0.91885231  0.64492754  0.62336443  0.31837118]]\n",
      "\n",
      "Determinant of Array 2: 10187.999999999973\n",
      "Inverse of Array 2:\n",
      "[[-2.45053004  2.16117     2.35904986  0.73949745 -2.38103651]\n",
      " [ 1.45318021 -1.38368669 -1.57096584 -0.35365135  1.53621908]\n",
      " [-0.74734982  0.74970554  0.76030624  0.19140165 -0.7614841 ]\n",
      " [ 0.50706714 -0.38967413 -0.36140558 -0.21181782  0.46937574]\n",
      " [ 0.26325088 -0.25147232 -0.19846879 -0.04299176  0.19257951]]\n",
      "\n",
      "Concatenated Array:\n",
      "[0.         0.05263158 0.10526316 0.15789474 0.21052632 0.26315789\n",
      " 0.31578947 0.36842105 0.42105263 0.47368421 0.52631579 0.57894737\n",
      " 0.63157895 0.68421053 0.73684211 0.78947368 0.84210526 0.89473684\n",
      " 0.94736842 1.         1.         1.05263158 1.10526316 1.15789474\n",
      " 1.21052632 1.26315789 1.31578947 1.36842105 1.42105263 1.47368421\n",
      " 1.52631579 1.57894737 1.63157895 1.68421053 1.73684211 1.78947368\n",
      " 1.84210526 1.89473684 1.94736842 2.        ]\n",
      "\n",
      "Reshaped Array:\n",
      "[[0.         0.05263158 0.10526316 0.15789474]\n",
      " [0.21052632 0.26315789 0.31578947 0.36842105]\n",
      " [0.42105263 0.47368421 0.52631579 0.57894737]\n",
      " [0.63157895 0.68421053 0.73684211 0.78947368]\n",
      " [0.84210526 0.89473684 0.94736842 1.        ]\n",
      " [1.         1.05263158 1.10526316 1.15789474]\n",
      " [1.21052632 1.26315789 1.31578947 1.36842105]\n",
      " [1.42105263 1.47368421 1.52631579 1.57894737]\n",
      " [1.63157895 1.68421053 1.73684211 1.78947368]\n",
      " [1.84210526 1.89473684 1.94736842 2.        ]]\n"
     ]
    }
   ],
   "source": [
    "import numpy as np\n",
    "\n",
    "array1 = np.random.randint(0, 21, size=(5, 5))\n",
    "array2 = np.random.randint(0, 21, size=(5, 5))\n",
    "\n",
    "print(\"Array 1:\")\n",
    "print(array1)\n",
    "print(\"\\nArray 2:\")\n",
    "print(array2)\n",
    "\n",
    "matrix_product = np.matmul(array1, array2)\n",
    "print(\"\\nMatrix Product:\")\n",
    "print(matrix_product)\n",
    "\n",
    "dot_product = np.dot(array1.flatten(), array2.flatten())\n",
    "print(\"\\nDot Product:\")\n",
    "print(dot_product)\n",
    "\n",
    "determinant_array1 = np.linalg.det(array1)\n",
    "inverse_array1 = np.linalg.inv(array1)\n",
    "determinant_array2 = np.linalg.det(array2)\n",
    "inverse_array2 = np.linalg.inv(array2)\n",
    "\n",
    "print(\"\\nDeterminant of Array 1:\", determinant_array1)\n",
    "print(\"Inverse of Array 1:\")\n",
    "print(inverse_array1)\n",
    "\n",
    "print(\"\\nDeterminant of Array 2:\", determinant_array2)\n",
    "print(\"Inverse of Array 2:\")\n",
    "print(inverse_array2)\n",
    "\n",
    "array1d_1 = np.linspace(0, 1, 20)\n",
    "array1d_2 = np.linspace(1, 2, 20)\n",
    "\n",
    "concatenated_array = np.concatenate((array1d_1, array1d_2))\n",
    "\n",
    "reshaped_array = concatenated_array.reshape((10, 4))\n",
    "\n",
    "print(\"\\nConcatenated Array:\")\n",
    "print(concatenated_array)\n",
    "print(\"\\nReshaped Array:\")\n",
    "print(reshaped_array)\n"
   ]
  },
  {
   "cell_type": "code",
   "execution_count": null,
   "id": "cd4cfc75-4768-4759-bb03-6dfb39592f97",
   "metadata": {},
   "outputs": [],
   "source": []
  }
 ],
 "metadata": {
  "kernelspec": {
   "display_name": "Python 3 (ipykernel)",
   "language": "python",
   "name": "python3"
  },
  "language_info": {
   "codemirror_mode": {
    "name": "ipython",
    "version": 3
   },
   "file_extension": ".py",
   "mimetype": "text/x-python",
   "name": "python",
   "nbconvert_exporter": "python",
   "pygments_lexer": "ipython3",
   "version": "3.11.5"
  }
 },
 "nbformat": 4,
 "nbformat_minor": 5
}
